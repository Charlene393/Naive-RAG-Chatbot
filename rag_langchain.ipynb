{
 "cells": [
  {
   "cell_type": "code",
   "execution_count": 1,
   "metadata": {},
   "outputs": [
    {
     "data": {
      "text/plain": [
       "True"
      ]
     },
     "execution_count": 1,
     "metadata": {},
     "output_type": "execute_result"
    }
   ],
   "source": [
    "import os\n",
    "import dotenv\n",
    "from pathlib import Path\n",
    "\n",
    "from langchain_core.messages import AIMessage, HumanMessage\n",
    "from langchain_community.document_loaders.text import TextLoader\n",
    "from langchain_community.document_loaders import(\n",
    "    WebBaseLoader,\n",
    "    PyPDFLoader,\n",
    "    Docx2txtLoader,\n",
    ")\n",
    "from langchain_community.vectorstores import Chroma\n",
    "from langchain.text_splitter import RecursiveCharacterTextSplitter\n",
    "from langchain_openai import OpenAIEmbeddings, ChatOpenAI\n",
    "from langchain_core.prompts import ChatPromptTemplate, MessagesPlaceholder\n",
    "from langchain.chains import create_history_aware_retriever, create_retrieval_chain\n",
    "from langchain.chains.combine_documents import create_stuff_documents_chain\n",
    "\n",
    "dotenv.load_dotenv()"
   ]
  },
  {
   "cell_type": "code",
   "execution_count": 13,
   "metadata": {},
   "outputs": [
    {
     "name": "stdout",
     "output_type": "stream",
     "text": [
      "Error loading cyber_security_for_beginners_ebook.pdf: File path docs/cyber_security_for_beginners_ebook.pdf is not a valid file or url\n"
     ]
    }
   ],
   "source": [
    "# List of PDF documents\n",
    "doc_path = [\"docs/cyber_security_for_beginners_ebook.pdf\"]\n",
    "docs = []\n",
    "\n",
    "for doc_file in doc_path:\n",
    "    file_path = Path(doc_file)\n",
    "\n",
    "    try:\n",
    "        if file_path.suffix.lower() == \".pdf\":\n",
    "            loader = PyPDFLoader(file_path)\n",
    "            docs.extend(loader.load())\n",
    "        else:\n",
    "            print(f\"Document type not supported: {file_path.name}\")\n",
    "            continue\n",
    "    except Exception as e:\n",
    "        print(f\"Error loading {file_path.name}: {e}\")    \n",
    "\n",
    "    finally:\n",
    "        # Remove the file if you don't want to keep it after processing\n",
    "        if file_path.exists():\n",
    "            os.remove(file_path)"
   ]
  }
 ],
 "metadata": {
  "kernelspec": {
   "display_name": "venv",
   "language": "python",
   "name": "python3"
  },
  "language_info": {
   "codemirror_mode": {
    "name": "ipython",
    "version": 3
   },
   "file_extension": ".py",
   "mimetype": "text/x-python",
   "name": "python",
   "nbconvert_exporter": "python",
   "pygments_lexer": "ipython3",
   "version": "3.13.3"
  }
 },
 "nbformat": 4,
 "nbformat_minor": 5
}
